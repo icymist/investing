{
 "metadata": {
  "name": "pe_analysis_stock"
 },
 "nbformat": 3,
 "nbformat_minor": 0,
 "worksheets": [
  {
   "cells": [
    {
     "cell_type": "code",
     "collapsed": false,
     "input": [
      "import pandas as pd\n",
      "from hisdata import Stock"
     ],
     "language": "python",
     "metadata": {},
     "outputs": [],
     "prompt_number": 227
    },
    {
     "cell_type": "code",
     "collapsed": false,
     "input": [
      "bhel_eps = pd.read_csv('earnings.csv', parse_dates=[0], header=None, names=['year', 'eps'], index_col='year')"
     ],
     "language": "python",
     "metadata": {},
     "outputs": [],
     "prompt_number": 240
    },
    {
     "cell_type": "code",
     "collapsed": false,
     "input": [
      "earliest_eps_date = bhel_eps.sort_index().index[0]\n",
      "earliest_eps_date"
     ],
     "language": "python",
     "metadata": {},
     "outputs": [
      {
       "output_type": "pyout",
       "prompt_number": 241,
       "text": [
        "Timestamp('2000-03-31 00:00:00', tz=None)"
       ]
      }
     ],
     "prompt_number": 241
    },
    {
     "cell_type": "code",
     "collapsed": false,
     "input": [
      "latest_eps_date = bhel_eps.sort_index().index[-1]\n",
      "latest_eps_date"
     ],
     "language": "python",
     "metadata": {},
     "outputs": [
      {
       "output_type": "pyout",
       "prompt_number": 242,
       "text": [
        "Timestamp('2013-03-31 00:00:00', tz=None)"
       ]
      }
     ],
     "prompt_number": 242
    },
    {
     "cell_type": "code",
     "collapsed": false,
     "input": [
      "bhel_close = Stock('500103').close.truncate(before=earliest_eps_date)\n",
      "bhel_close"
     ],
     "language": "python",
     "metadata": {},
     "outputs": [
      {
       "output_type": "pyout",
       "prompt_number": 243,
       "text": [
        "date\n",
        "2000-03-31    12.50\n",
        "2000-04-03    13.13\n",
        "2000-04-04    12.08\n",
        "2000-04-05    12.12\n",
        "2000-04-06    11.79\n",
        "2000-04-07    12.18\n",
        "2000-04-10    12.59\n",
        "2000-04-11    12.38\n",
        "2000-04-12    12.36\n",
        "2000-04-13    12.05\n",
        "2000-04-17    11.70\n",
        "2000-04-18    11.21\n",
        "2000-04-19    10.31\n",
        "2000-04-20     9.54\n",
        "2000-04-24     8.89\n",
        "...\n",
        "2013-07-10    184.05\n",
        "2013-07-11    186.15\n",
        "2013-07-12    187.85\n",
        "2013-07-15    186.15\n",
        "2013-07-16    182.75\n",
        "2013-07-17    183.15\n",
        "2013-07-18    188.90\n",
        "2013-07-19    173.75\n",
        "2013-07-22    161.50\n",
        "2013-07-23    165.10\n",
        "2013-07-24    163.00\n",
        "2013-07-25    158.60\n",
        "2013-07-26    158.80\n",
        "2013-07-29    156.95\n",
        "2013-07-30    152.65\n",
        "Name: close, Length: 3328, dtype: float64"
       ]
      }
     ],
     "prompt_number": 243
    },
    {
     "cell_type": "code",
     "collapsed": false,
     "input": [
      "bhel_eps = pd.Series(bhel_eps.eps, index=bhel_close.index)"
     ],
     "language": "python",
     "metadata": {},
     "outputs": [],
     "prompt_number": 244
    },
    {
     "cell_type": "code",
     "collapsed": false,
     "input": [
      "bhel_eps.dropna()"
     ],
     "language": "python",
     "metadata": {},
     "outputs": [
      {
       "output_type": "pyout",
       "prompt_number": 245,
       "text": [
        "date\n",
        "2000-03-31     3.500\n",
        "2003-03-31     3.600\n",
        "2004-03-31     5.380\n",
        "2005-03-31     7.790\n",
        "2006-03-31    13.720\n",
        "2008-03-31    11.680\n",
        "2009-03-31    12.820\n",
        "2010-03-31    17.612\n",
        "2011-03-31    24.560\n",
        "Name: eps, dtype: float64"
       ]
      }
     ],
     "prompt_number": 245
    },
    {
     "cell_type": "code",
     "collapsed": false,
     "input": [
      "bhel_eps = bhel_eps.fillna(method='pad')\n",
      "bhel_eps"
     ],
     "language": "python",
     "metadata": {},
     "outputs": [
      {
       "output_type": "pyout",
       "prompt_number": 246,
       "text": [
        "date\n",
        "2000-03-31    3.5\n",
        "2000-04-03    3.5\n",
        "2000-04-04    3.5\n",
        "2000-04-05    3.5\n",
        "2000-04-06    3.5\n",
        "2000-04-07    3.5\n",
        "2000-04-10    3.5\n",
        "2000-04-11    3.5\n",
        "2000-04-12    3.5\n",
        "2000-04-13    3.5\n",
        "2000-04-17    3.5\n",
        "2000-04-18    3.5\n",
        "2000-04-19    3.5\n",
        "2000-04-20    3.5\n",
        "2000-04-24    3.5\n",
        "...\n",
        "2013-07-10    24.56\n",
        "2013-07-11    24.56\n",
        "2013-07-12    24.56\n",
        "2013-07-15    24.56\n",
        "2013-07-16    24.56\n",
        "2013-07-17    24.56\n",
        "2013-07-18    24.56\n",
        "2013-07-19    24.56\n",
        "2013-07-22    24.56\n",
        "2013-07-23    24.56\n",
        "2013-07-24    24.56\n",
        "2013-07-25    24.56\n",
        "2013-07-26    24.56\n",
        "2013-07-29    24.56\n",
        "2013-07-30    24.56\n",
        "Name: eps, Length: 3328, dtype: float64"
       ]
      }
     ],
     "prompt_number": 246
    },
    {
     "cell_type": "code",
     "collapsed": false,
     "input": [
      "df = pd.DataFrame.from_dict({'close': bhel_close, 'eps': bhel_eps})"
     ],
     "language": "python",
     "metadata": {},
     "outputs": [],
     "prompt_number": 247
    },
    {
     "cell_type": "code",
     "collapsed": false,
     "input": [
      "df.tail()"
     ],
     "language": "python",
     "metadata": {},
     "outputs": [
      {
       "html": [
        "<div style=\"max-height:1000px;max-width:1500px;overflow:auto;\">\n",
        "<table border=\"1\" class=\"dataframe\">\n",
        "  <thead>\n",
        "    <tr style=\"text-align: right;\">\n",
        "      <th></th>\n",
        "      <th>close</th>\n",
        "      <th>eps</th>\n",
        "      <th>pe</th>\n",
        "    </tr>\n",
        "    <tr>\n",
        "      <th>date</th>\n",
        "      <th></th>\n",
        "      <th></th>\n",
        "      <th></th>\n",
        "    </tr>\n",
        "  </thead>\n",
        "  <tbody>\n",
        "    <tr>\n",
        "      <th>2013-07-24</th>\n",
        "      <td> 163.00</td>\n",
        "      <td> 24.56</td>\n",
        "      <td> 6.636808</td>\n",
        "    </tr>\n",
        "    <tr>\n",
        "      <th>2013-07-25</th>\n",
        "      <td> 158.60</td>\n",
        "      <td> 24.56</td>\n",
        "      <td> 6.457655</td>\n",
        "    </tr>\n",
        "    <tr>\n",
        "      <th>2013-07-26</th>\n",
        "      <td> 158.80</td>\n",
        "      <td> 24.56</td>\n",
        "      <td> 6.465798</td>\n",
        "    </tr>\n",
        "    <tr>\n",
        "      <th>2013-07-29</th>\n",
        "      <td> 156.95</td>\n",
        "      <td> 24.56</td>\n",
        "      <td> 6.390472</td>\n",
        "    </tr>\n",
        "    <tr>\n",
        "      <th>2013-07-30</th>\n",
        "      <td> 152.65</td>\n",
        "      <td> 24.56</td>\n",
        "      <td> 6.215391</td>\n",
        "    </tr>\n",
        "  </tbody>\n",
        "</table>\n",
        "</div>"
       ],
       "output_type": "pyout",
       "prompt_number": 251,
       "text": [
        "             close    eps        pe\n",
        "date                               \n",
        "2013-07-24  163.00  24.56  6.636808\n",
        "2013-07-25  158.60  24.56  6.457655\n",
        "2013-07-26  158.80  24.56  6.465798\n",
        "2013-07-29  156.95  24.56  6.390472\n",
        "2013-07-30  152.65  24.56  6.215391"
       ]
      }
     ],
     "prompt_number": 251
    },
    {
     "cell_type": "code",
     "collapsed": false,
     "input": [
      "df['pe'] = df.close/df.eps"
     ],
     "language": "python",
     "metadata": {},
     "outputs": [],
     "prompt_number": 249
    },
    {
     "cell_type": "code",
     "collapsed": false,
     "input": [
      "df['pe'].plot()\n",
      "pd.rolling_mean(df.pe, 250).plot()\n",
      "pd.rolling_mean(df.pe, 500).plot()"
     ],
     "language": "python",
     "metadata": {},
     "outputs": [
      {
       "output_type": "pyout",
       "prompt_number": 255,
       "text": [
        "<matplotlib.axes.AxesSubplot at 0x115ccf450>"
       ]
      }
     ],
     "prompt_number": 255
    },
    {
     "cell_type": "code",
     "collapsed": false,
     "input": [
      "df['pe'].describe()"
     ],
     "language": "python",
     "metadata": {},
     "outputs": [
      {
       "output_type": "pyout",
       "prompt_number": 253,
       "text": [
        "count    3328.000000\n",
        "mean       15.591811\n",
        "std        10.049910\n",
        "min         2.540000\n",
        "25%         7.306596\n",
        "50%        13.244408\n",
        "75%        23.790809\n",
        "max        41.892857\n",
        "dtype: float64"
       ]
      }
     ],
     "prompt_number": 253
    },
    {
     "cell_type": "code",
     "collapsed": false,
     "input": [],
     "language": "python",
     "metadata": {},
     "outputs": [],
     "prompt_number": 98
    }
   ],
   "metadata": {}
  }
 ]
}