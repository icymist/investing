{
 "metadata": {
  "name": "rolling_cagr"
 },
 "nbformat": 3,
 "nbformat_minor": 0,
 "worksheets": [
  {
   "cells": [
    {
     "cell_type": "code",
     "collapsed": false,
     "input": [
      "#! /usr/bin/env python\n",
      "\n",
      "import pandas as pd\n",
      "from hisdata import Index\n",
      "import argparse\n",
      "##import matplotlib.pyplot as plt\n",
      "##pd.set_option('display.max_columns', 30)\n",
      "#\n",
      "#sensex = Index('bse_sensex')\n",
      "#sensex_daily = sensex.close.asfreq('D', method='pad')\n",
      "#sensex_monthly = sensex.close.asfreq('BMS', method='pad')\n",
      "#sensex_yearly = sensex.close.asfreq('BAS', method='pad')#, how=None)#, method='pad')\n",
      "#\n",
      "#print sensex_yearly\n",
      "#print sensex_yearly.pct_change()\n",
      "#\n",
      "## rolling averages\n",
      "#ra_daily = {i: sensex_daily.pct_change(i*365) for i in range(1,24)}\n",
      "#ra_monthly = {i: sensex_monthly.pct_change(i*12) for i in range(1,24)}\n",
      "#ra_yearly = {i: sensex_yearly.pct_change(i) for i in range(1,24)}\n",
      "#\n",
      "## resample down\n",
      "#rs_daily = {i: ra_daily[i].resample('BAS', how='mean') for i in range(1,24)}\n",
      "#rs_monthly = {i: ra_monthly[i].resample('BAS', how='mean') for i in range(1,24)}\n",
      "#rs_yearly = {i: ra_yearly[i].resample('BAS', how='mean') for i in range(1,24)}\n",
      "#\n",
      "## calculate cagrs\n",
      "#cagr_daily = {i: 100*((rs_daily[i]+1)**(1/float(i))-1) for i in range(1,24)}\n",
      "#cagr_monthly = {i: 100*((rs_monthly[i]+1)**(1/float(i))-1) for i in range(1,24)}\n",
      "#cagr_yearly = {i: 100*((rs_yearly[i]+1)**(1/float(i))-1) for i in range(1,24)}\n",
      "#\n",
      "## make them into a dataframe\n",
      "#df_daily = pd.DataFrame(cagr_daily)\n",
      "#df_monthly = pd.DataFrame(cagr_monthly)\n",
      "#df_yearly = pd.DataFrame(cagr_yearly)\n",
      "#\n",
      "## write to csv files\n",
      "#df_daily.to_csv('rolling_cagr_daily.csv')\n",
      "#df_monthly.to_csv('rolling_cagr_monthly.csv')\n",
      "#df_yearly.to_csv('rolling_cagr_yearly.csv')\n",
      "\n",
      "if __name__ == '__main__':\n",
      "    parser ="
     ],
     "language": "python",
     "metadata": {},
     "outputs": []
    }
   ],
   "metadata": {}
  }
 ]
}