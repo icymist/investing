{
 "metadata": {
  "name": "bottoms"
 },
 "nbformat": 3,
 "nbformat_minor": 0,
 "worksheets": [
  {
   "cells": [
    {
     "cell_type": "code",
     "collapsed": false,
     "input": [
      "#! /usr/bin/env python\n",
      "\n",
      "\"\"\"\n",
      "Script to find stocks which have bottomed out.\n",
      "\n",
      "The idea is that the 50, 100 and 200 day simple moving averages are all within\n",
      "10% from the lowest of the three.\n",
      "\"\"\"\n",
      "\n",
      "import numpy as np\n",
      "import pandas as pd\n",
      "import matplotlib.pyplot as plt\n",
      "from hisdata import Stock\n",
      "from indexconstituents import useful_companies\n",
      "from multiprocessing import cpu_count, Pool\n",
      "\n",
      "# relative standard deviation\n",
      "def rstd(lst):\n",
      "    array = np.array(lst)\n",
      "    print array\n",
      "    return array.std()/array.mean()\n",
      "\n",
      "#rstd = {}\n",
      "#for bsecode in useful_companies.index:\n",
      "#    stk = Stock(bsecode)\n",
      "#    print bsecode, rstd([stk.ma50[-1], stk.ma100[-1], stk.ma200[-1]])\n",
      "\n",
      "df = useful_companies#[:50]\n",
      "df = pd.DataFrame(df)\n",
      "print df\n",
      "\n",
      "def try_getting(parameter):\n",
      "    try:\n",
      "        #print parameter[-1]\n",
      "        return parameter[-1]\n",
      "    except:\n",
      "        'caught exception'\n",
      "        return None\n",
      "\n",
      "ma50 = lambda bsecode: try_getting(Stock(bsecode).ma50)\n",
      "ma100 = lambda bsecode: try_getting(Stock(bsecode).ma100)\n",
      "ma200 = lambda bsecode: try_getting(Stock(bsecode).ma200)\n",
      "\n",
      "df['ma50'] = df.index.map(ma50)\n",
      "df['ma100'] = df.index.map(ma100)\n",
      "df['ma200'] = df.index.map(ma200)\n",
      "df['rstd'] = df.std(axis=1)/df.mean(axis=1)\n",
      "\n",
      "df.to_csv('bottoms.csv', index_label='bsecode')\n",
      "\n",
      "df[['rstd']].boxplot()\n",
      "plt.show()"
     ],
     "language": "python",
     "metadata": {},
     "outputs": []
    }
   ],
   "metadata": {}
  }
 ]
}